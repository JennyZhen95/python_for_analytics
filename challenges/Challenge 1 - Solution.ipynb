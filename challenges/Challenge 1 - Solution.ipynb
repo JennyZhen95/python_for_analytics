{
 "cells": [
  {
   "cell_type": "code",
   "execution_count": null,
   "metadata": {},
   "outputs": [],
   "source": [
    "class NQueens:\n",
    "    \"\"\"Generate all valid solutions for the n queens puzzle\"\"\"\n",
    "    def __init__(self, size, show=False):\n",
    "        self.size = size\n",
    "        self.solutions = 0\n",
    "        self.solve()\n",
    "\n",
    "    def solve(self):\n",
    "        \"\"\"Solve the n queens puzzle and print the number of solutions\"\"\"\n",
    "        positions = [-1] * self.size\n",
    "        self.put_queen(positions, 0)\n",
    "        print(\"Found\", self.solutions, \"solutions.\")\n",
    "        return self.solutions\n",
    "\n",
    "    def put_queen(self, positions, target_row):\n",
    "        \"\"\"\n",
    "        Try to place a queen on target_row by checking all N possible cases.\n",
    "        If a valid place is found the function calls itself trying to place a queen\n",
    "        on the next row until all N queens are placed on the NxN board.\n",
    "        \"\"\"\n",
    "        # Base (stop) case - all N rows are occupied\n",
    "        if target_row == self.size:\n",
    "            self.solutions += 1\n",
    "        else:\n",
    "            # For all N columns positions try to place a queen\n",
    "            for column in range(self.size):\n",
    "                # Reject all invalid positions\n",
    "                if self.check_place(positions, target_row, column):\n",
    "                    positions[target_row] = column\n",
    "                    self.put_queen(positions, target_row + 1)\n",
    "\n",
    "    def check_place(self, positions, ocuppied_rows, column):\n",
    "        \"\"\"\n",
    "        Check if a given position is under attack from any of\n",
    "        the previously placed queens (check column and diagonal positions)\n",
    "        \"\"\"\n",
    "        for i in range(ocuppied_rows):\n",
    "            if positions[i] == column or \\\n",
    "                positions[i] - i == column - ocuppied_rows or \\\n",
    "                positions[i] + i == column + ocuppied_rows:\n",
    "\n",
    "                return False\n",
    "        return True\n"
   ]
  }
 ],
 "metadata": {
  "kernelspec": {
   "display_name": "Python 3",
   "language": "python",
   "name": "python3"
  },
  "language_info": {
   "codemirror_mode": {
    "name": "ipython",
    "version": 3
   },
   "file_extension": ".py",
   "mimetype": "text/x-python",
   "name": "python",
   "nbconvert_exporter": "python",
   "pygments_lexer": "ipython3",
   "version": "3.7.6"
  }
 },
 "nbformat": 4,
 "nbformat_minor": 2
}
