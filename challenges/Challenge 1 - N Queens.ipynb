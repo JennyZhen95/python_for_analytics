{
 "cells": [
  {
   "cell_type": "markdown",
   "metadata": {},
   "source": [
    "# N-Queens Challenge\n",
    "\n",
    "From wikipedia:\n",
    "    \n",
    "    The eight queens puzzle is the problem of placing eight chess queens on an 8×8 chessboard so that no two queens threaten each other; thus, a solution requires that no two queens share the same row, column, or diagonal. The eight queens puzzle is an example of the more general n queens problem of placing n non-attacking queens on an n×n chessboard, for which solutions exist for all natural numbers n with the exception of n = 2 and n = 3.\n",
    "    Chess composer Max Bezzel published the eight queens puzzle in 1848. Franz Nauck published the first solutions in 1850.[2] Nauck also extended the puzzle to the n queens problem, with n queens on a chessboard of n×n squares.\n",
    "    Since then, many mathematicians, including Carl Friedrich Gauss, have worked on both the eight queens puzzle and its generalized n-queens version. In 1874, S. Gunther proposed a method using determinants to find solutions.[2] J.W.L. Glaisher refined Gunther's approach.\n",
    "    In 1972, Edsger Dijkstra used this problem to illustrate the power of what he called structured programming. He published a highly detailed description of a depth-first backtracking algorithm.2\n",
    "\n",
    "## Build a code that calculates the ratio of solutions vs the possible arrangements for N queens in a chess board of NxN size.\n",
    "\n",
    "\n",
    "1 - Build an UDF that calculates the total ammount of arragements of N queens\n",
    "2 - Build an UDF that if a Queen can be place on a given position and returns true or false\n",
    "3 - Apply the 2nd UDF for N queens on an NxN board\n",
    "4 - Repeat #3 until it exhausts the possibilities\n",
    "5 - Build an UDF that manages the results in a table? or tuple? build an assesment of this object that returns the compiled results.\n"
   ]
  },
  {
   "cell_type": "code",
   "execution_count": null,
   "metadata": {},
   "outputs": [],
   "source": []
  }
 ],
 "metadata": {
  "kernelspec": {
   "display_name": "Python 3",
   "language": "python",
   "name": "python3"
  },
  "language_info": {
   "codemirror_mode": {
    "name": "ipython",
    "version": 3
   },
   "file_extension": ".py",
   "mimetype": "text/x-python",
   "name": "python",
   "nbconvert_exporter": "python",
   "pygments_lexer": "ipython3",
   "version": "3.7.6"
  }
 },
 "nbformat": 4,
 "nbformat_minor": 2
}
