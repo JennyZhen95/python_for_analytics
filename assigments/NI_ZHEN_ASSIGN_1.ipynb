{
 "cells": [
  {
   "cell_type": "markdown",
   "metadata": {},
   "source": [
    "## Assignment 1\n",
    "* Due 1/31 by 5pm\n",
    "* Topics: containers, udfs, comprehensions, error handling"
   ]
  },
  {
   "cell_type": "markdown",
   "metadata": {},
   "source": [
    "## Instructions\n",
    "* Rename this notebook with your NAME_LASTNAME_ASSIGN_1\n",
    "* Finish the test on this notebook\n",
    "* Download your notebook as a PDF\n",
    "* Turn in both the notebook and PDF (in my case I would get two files RAFAEL_VESCOVI_ASSIGN_1.pdf and RAFAEL_VESCOVI_ASSIGN_1.ipynb)\n",
    "* Show the output of your code working on the sample data, like below.  \n",
    "* If techniques are specified, use them.  Otherwise, feel free to solve the problem how you want.  \n",
    "* Try to keep your code clean, concise and avoid loops if necessary.  \n",
    "* You have to show your work (code).\n",
    "* You will be graded:\n",
    "    * The functionality of your code (Does it do what it was meant to)\n",
    "    * Showing the output on the sample data provided\n",
    "    * How concise it is (did you use a for loop when you could have used a comprehension for instance).  Simply put, try and write clean, concise and readable code (don't use 10 lines for what could have been done in 4).\n",
    "    * Even if the answer isn't perfect, make an honest attempt as partial credit will be given.\n",
    "* you should not have to explicitly use  a for loop except for question 12, meaning it is possible to complete the entire assignment without using the keyword \"for\".\n",
    "* the only third party functions/modules you are allowed to use are permutations and combinations from itertools.  yes, there is a built in median function in numpy, but the idea is to program yourself and solve the problems on your own using basic python techniques"
   ]
  },
  {
   "cell_type": "markdown",
   "metadata": {},
   "source": [
    "## Sample Question\n",
    "* Create a UDF that adds 2 to a number"
   ]
  },
  {
   "cell_type": "code",
   "execution_count": 1,
   "metadata": {},
   "outputs": [],
   "source": [
    "a = 5"
   ]
  },
  {
   "cell_type": "code",
   "execution_count": 2,
   "metadata": {},
   "outputs": [
    {
     "name": "stdout",
     "output_type": "stream",
     "text": [
      "7\n"
     ]
    }
   ],
   "source": [
    "def add_func(x):\n",
    "    return(x+2)\n",
    "\n",
    "number = add_func(a)\n",
    "print(number)"
   ]
  },
  {
   "cell_type": "markdown",
   "metadata": {},
   "source": [
    "### Question 1\n",
    "* Create a function that takes 2 lists as params, of equal length and does the following:\n",
    "    * returns a dictionary where the keys are the first list and the values are the second list\n",
    "    * make use of zip and comprehension to make the dictionary\n",
    "    * if the lists are not of equal length, use error handling to indicate the mismatch"
   ]
  },
  {
   "cell_type": "code",
   "execution_count": 3,
   "metadata": {},
   "outputs": [],
   "source": [
    "# a = [5,7]\n",
    "# b = [\"x\", \"z\"]\n",
    "# return {5:\"x\", 7:\"z\"}"
   ]
  },
  {
   "cell_type": "code",
   "execution_count": 49,
   "metadata": {},
   "outputs": [],
   "source": [
    "a = [1,2,3,4,5,6,7,8]\n",
    "b = [\"a\",\"b\",\"c\",\"d\",\"e\",\"f\",\"g\",\"h\"]"
   ]
  },
  {
   "cell_type": "code",
   "execution_count": 50,
   "metadata": {},
   "outputs": [
    {
     "name": "stdout",
     "output_type": "stream",
     "text": [
      "{1: 'a', 2: 'b', 3: 'c', 4: 'd', 5: 'e', 6: 'f', 7: 'g', 8: 'h'}\n"
     ]
    }
   ],
   "source": [
    "def make_dict(x,y):\n",
    "    assert len(x) == len(y), \"The two lists as params have to be of equal length.\"\n",
    "    \n",
    "    output = {key:value for key, value in zip(x,y)}\n",
    "    \n",
    "    return(output)\n",
    "\n",
    "dictionary = make_dict(a,b)\n",
    "print(dictionary)"
   ]
  },
  {
   "cell_type": "markdown",
   "metadata": {},
   "source": [
    "### Question 2\n",
    "* Create a UDF that takes a list and returns the permutations and combinations (length 2) as nested lists, along with the number of permutations and combinations.  \n",
    "* The function should return 4 things"
   ]
  },
  {
   "cell_type": "code",
   "execution_count": 52,
   "metadata": {},
   "outputs": [],
   "source": [
    "a = [1,2,3,4,5]"
   ]
  },
  {
   "cell_type": "code",
   "execution_count": 53,
   "metadata": {},
   "outputs": [
    {
     "name": "stdout",
     "output_type": "stream",
     "text": [
      "Permutations are [(1, 2), (1, 3), (1, 4), (1, 5), (2, 1), (2, 3), (2, 4), (2, 5), (3, 1), (3, 2), (3, 4), (3, 5), (4, 1), (4, 2), (4, 3), (4, 5), (5, 1), (5, 2), (5, 3), (5, 4)]\n",
      "There are 20 permutations.\n",
      "Combinations are [(1, 2), (1, 3), (1, 4), (1, 5), (2, 3), (2, 4), (2, 5), (3, 4), (3, 5), (4, 5)]\n",
      "There are 10 combinations.\n"
     ]
    }
   ],
   "source": [
    "from itertools import permutations, combinations\n",
    "\n",
    "def perm_comb(x):\n",
    "\n",
    "    perm_output = list(permutations(x, 2))\n",
    "    perm_output_len = len(list(permutations(x, 2)))\n",
    "    comb_output = list(combinations(x, 2))\n",
    "    comb_output_len = len(list(combinations(x, 2)))\n",
    "\n",
    "    return perm_output, perm_output_len, comb_output, comb_output_len\n",
    "\n",
    "perm_output, perm_output_len, comb_output, comb_output_len = perm_comb(a)\n",
    "print(\"Permutations are\", perm_output)\n",
    "print(\"There are\", perm_output_len, \"permutations.\")\n",
    "print(\"Combinations are\", comb_output)\n",
    "print(\"There are\", comb_output_len, \"combinations.\")"
   ]
  },
  {
   "cell_type": "markdown",
   "metadata": {},
   "source": [
    "### Question 3\n",
    "* Map a function to the below list that\n",
    "    * returns the remainder of each number divided by 3 (52/3 = 17 with a remainder of 1, we want the 1 to be returned)\n",
    "    * use lambdas for the mapping\n",
    "    * hint, look at modulus (%) in python"
   ]
  },
  {
   "cell_type": "code",
   "execution_count": 13,
   "metadata": {},
   "outputs": [],
   "source": [
    "lst = list(range(100))"
   ]
  },
  {
   "cell_type": "code",
   "execution_count": 14,
   "metadata": {},
   "outputs": [
    {
     "data": {
      "text/plain": [
       "[0,\n",
       " 1,\n",
       " 2,\n",
       " 0,\n",
       " 1,\n",
       " 2,\n",
       " 0,\n",
       " 1,\n",
       " 2,\n",
       " 0,\n",
       " 1,\n",
       " 2,\n",
       " 0,\n",
       " 1,\n",
       " 2,\n",
       " 0,\n",
       " 1,\n",
       " 2,\n",
       " 0,\n",
       " 1,\n",
       " 2,\n",
       " 0,\n",
       " 1,\n",
       " 2,\n",
       " 0,\n",
       " 1,\n",
       " 2,\n",
       " 0,\n",
       " 1,\n",
       " 2,\n",
       " 0,\n",
       " 1,\n",
       " 2,\n",
       " 0,\n",
       " 1,\n",
       " 2,\n",
       " 0,\n",
       " 1,\n",
       " 2,\n",
       " 0,\n",
       " 1,\n",
       " 2,\n",
       " 0,\n",
       " 1,\n",
       " 2,\n",
       " 0,\n",
       " 1,\n",
       " 2,\n",
       " 0,\n",
       " 1,\n",
       " 2,\n",
       " 0,\n",
       " 1,\n",
       " 2,\n",
       " 0,\n",
       " 1,\n",
       " 2,\n",
       " 0,\n",
       " 1,\n",
       " 2,\n",
       " 0,\n",
       " 1,\n",
       " 2,\n",
       " 0,\n",
       " 1,\n",
       " 2,\n",
       " 0,\n",
       " 1,\n",
       " 2,\n",
       " 0,\n",
       " 1,\n",
       " 2,\n",
       " 0,\n",
       " 1,\n",
       " 2,\n",
       " 0,\n",
       " 1,\n",
       " 2,\n",
       " 0,\n",
       " 1,\n",
       " 2,\n",
       " 0,\n",
       " 1,\n",
       " 2,\n",
       " 0,\n",
       " 1,\n",
       " 2,\n",
       " 0,\n",
       " 1,\n",
       " 2,\n",
       " 0,\n",
       " 1,\n",
       " 2,\n",
       " 0,\n",
       " 1,\n",
       " 2,\n",
       " 0,\n",
       " 1,\n",
       " 2,\n",
       " 0]"
      ]
     },
     "execution_count": 14,
     "metadata": {},
     "output_type": "execute_result"
    }
   ],
   "source": [
    "list(map(lambda x: x%3, lst))"
   ]
  },
  {
   "cell_type": "markdown",
   "metadata": {},
   "source": [
    "### Question 4\n",
    "* Using comprehension, replace the keys in the list with their value in the dictionary\n",
    "* example below"
   ]
  },
  {
   "cell_type": "code",
   "execution_count": null,
   "metadata": {},
   "outputs": [],
   "source": [
    "#lst = [1,2]\n",
    "#dict = {1:\"a\", 2:\"b\"}\n",
    "#new_lst = [\"a\",\"b\"]"
   ]
  },
  {
   "cell_type": "code",
   "execution_count": 15,
   "metadata": {},
   "outputs": [],
   "source": [
    "a = list(range(5))\n",
    "dct = {\n",
    "    0:\"a\",\n",
    "    1:\"b\",\n",
    "    2:\"c\",\n",
    "    3:\"d\",\n",
    "    4:\"e\"\n",
    "}"
   ]
  },
  {
   "cell_type": "code",
   "execution_count": 16,
   "metadata": {},
   "outputs": [
    {
     "name": "stdout",
     "output_type": "stream",
     "text": [
      "['a', 'b', 'c', 'd', 'e']\n"
     ]
    }
   ],
   "source": [
    "new_lst = list(dct[i] for i in a)\n",
    "print(new_lst)"
   ]
  },
  {
   "cell_type": "markdown",
   "metadata": {},
   "source": [
    "### Question 5\n",
    "* Make a UDF that takes a variable amount of numbers and returns a list with the numbers having been squared\n",
    "* use comprehension to perform the squaring of each item\n",
    "* hint, this should be doable in one line using args"
   ]
  },
  {
   "cell_type": "code",
   "execution_count": null,
   "metadata": {},
   "outputs": [],
   "source": [
    "# my_func(1,2,3)\n",
    "    # do some stuff\n",
    "    \n",
    "# return_lst = [1,4,9]"
   ]
  },
  {
   "cell_type": "code",
   "execution_count": null,
   "metadata": {},
   "outputs": [],
   "source": [
    "# for this pass in the numberse 1,2,3"
   ]
  },
  {
   "cell_type": "code",
   "execution_count": 17,
   "metadata": {},
   "outputs": [
    {
     "name": "stdout",
     "output_type": "stream",
     "text": [
      "[1, 4, 9]\n"
     ]
    }
   ],
   "source": [
    "def num_squared(*args):\n",
    "    return(list(i**2 for i in args))\n",
    "        \n",
    "\n",
    "return_lst = num_squared(1,2,3)\n",
    "print(return_lst)"
   ]
  },
  {
   "cell_type": "markdown",
   "metadata": {},
   "source": [
    "### Question 6\n",
    "* Make a UDF that takes two lists as params and returns a list of the intersecting items (items that appear in both lists)"
   ]
  },
  {
   "cell_type": "code",
   "execution_count": 18,
   "metadata": {},
   "outputs": [],
   "source": [
    "\n",
    "# a = [1,2]\n",
    "# b = [2,3]\n",
    "# return_lst = [2]"
   ]
  },
  {
   "cell_type": "code",
   "execution_count": 19,
   "metadata": {},
   "outputs": [],
   "source": [
    "a = [1,2,3,4,5,6,7]\n",
    "b = [2,3,4,6,8,10,11,21]"
   ]
  },
  {
   "cell_type": "code",
   "execution_count": 20,
   "metadata": {},
   "outputs": [
    {
     "name": "stdout",
     "output_type": "stream",
     "text": [
      "[2, 3, 4, 6]\n"
     ]
    }
   ],
   "source": [
    "def intersection(list1,list2):\n",
    "    return list(filter(lambda x: x in list1, list2))\n",
    "\n",
    "return_lst = intersection(a,b)\n",
    "print(return_lst)"
   ]
  },
  {
   "cell_type": "markdown",
   "metadata": {},
   "source": [
    "### Question 7\n",
    "* write a function that takes a list of numbers and filters for odds only\n",
    "* use the filter method and a lambda as the function"
   ]
  },
  {
   "cell_type": "code",
   "execution_count": 28,
   "metadata": {},
   "outputs": [],
   "source": [
    "# my_lst = [1,2]\n",
    "# new_lst = [1]"
   ]
  },
  {
   "cell_type": "code",
   "execution_count": 29,
   "metadata": {},
   "outputs": [],
   "source": [
    "a = [1,2,3,4,5,6,7,8,9,10,11,12,13,14,15]"
   ]
  },
  {
   "cell_type": "code",
   "execution_count": 30,
   "metadata": {},
   "outputs": [
    {
     "data": {
      "text/plain": [
       "[1, 3, 5, 7, 9, 11, 13, 15]"
      ]
     },
     "execution_count": 30,
     "metadata": {},
     "output_type": "execute_result"
    }
   ],
   "source": [
    "def find_odds(list1):\n",
    "    return(list(filter(lambda x: x%2 == 1, list1)))\n",
    "\n",
    "new_lst = find_odds(a)\n",
    "return(new_lst)"
   ]
  },
  {
   "cell_type": "markdown",
   "metadata": {},
   "source": [
    "### Question 8\n",
    "* Write a function (lambda or not) that returns the absolute value of a number and adds 2\n",
    "* Use the function to map it to a list comprehension"
   ]
  },
  {
   "cell_type": "code",
   "execution_count": 31,
   "metadata": {},
   "outputs": [],
   "source": [
    "# my_lst = [1,-2,1]\n",
    "# using a comprehension return [3,4,3]"
   ]
  },
  {
   "cell_type": "code",
   "execution_count": 32,
   "metadata": {},
   "outputs": [],
   "source": [
    "a = [1,-2,1,8,-10,15,-12]"
   ]
  },
  {
   "cell_type": "code",
   "execution_count": 34,
   "metadata": {},
   "outputs": [
    {
     "name": "stdout",
     "output_type": "stream",
     "text": [
      "[3, 4, 3, 10, 12, 17, 14]\n"
     ]
    }
   ],
   "source": [
    "return_lst = list(map(lambda x: abs(x)+2, a))\n",
    "print(return_lst)"
   ]
  },
  {
   "cell_type": "markdown",
   "metadata": {},
   "source": [
    "### Question 9\n",
    "* write a function that takes 2 lists and finds the euclidean distance between then\n",
    "* note you may not use any third party modules.  use  comprehensions"
   ]
  },
  {
   "cell_type": "code",
   "execution_count": 35,
   "metadata": {},
   "outputs": [],
   "source": [
    "# a = [1,2]\n",
    "# b = [3,1]\n",
    "# distance = ~2.23"
   ]
  },
  {
   "cell_type": "code",
   "execution_count": 36,
   "metadata": {},
   "outputs": [],
   "source": [
    "a = [1,2,3,4,1]\n",
    "b = [3,1,2,4,3]"
   ]
  },
  {
   "cell_type": "code",
   "execution_count": 37,
   "metadata": {},
   "outputs": [
    {
     "name": "stdout",
     "output_type": "stream",
     "text": [
      "3.1622776601683795\n"
     ]
    }
   ],
   "source": [
    "def find_eucli_dist(list1, list2):\n",
    "    return sum([(x-y)**2 for x,y in zip(list1, list2)])**0.5\n",
    "    \n",
    "distance = find_eucli_dist(a,b)\n",
    "print(distance)"
   ]
  },
  {
   "cell_type": "markdown",
   "metadata": {},
   "source": [
    "### Question 10\n",
    "* write a function that takes a list, sorts it and finds the middle value.  \n",
    "* use error handling to check the list is odd in length\n",
    "* if it's even, return an error message\n",
    "* feel free to use a try/except or assert\n",
    "* show the output run on both lists"
   ]
  },
  {
   "cell_type": "code",
   "execution_count": 38,
   "metadata": {},
   "outputs": [],
   "source": [
    "# a = [4,6,1]\n",
    "# sort = [1,4,6]\n",
    "# middle val = 4\n",
    "# if even number in size, return error"
   ]
  },
  {
   "cell_type": "code",
   "execution_count": 2,
   "metadata": {},
   "outputs": [],
   "source": [
    "a = [4,6,1,3,12,41,4,1,24,12,17]\n",
    "b = [4,6,1,3,12,41,4,1,24,12]"
   ]
  },
  {
   "cell_type": "code",
   "execution_count": 3,
   "metadata": {},
   "outputs": [
    {
     "name": "stdout",
     "output_type": "stream",
     "text": [
      "[1, 1, 3, 4, 4, 6, 12, 12, 17, 24, 41] 6\n"
     ]
    }
   ],
   "source": [
    "def sort_median (lst):\n",
    "    \n",
    "    assert len(lst)%2 ==1, \"The length of list has to be odd in length.\"\n",
    "    \n",
    "    lst.sort()\n",
    "    sort = lst\n",
    "    middle_val = lst[len(lst)//2]\n",
    "    \n",
    "    return sort, middle_val\n",
    "\n",
    "sort, middle_val = sort_median(a)\n",
    "print(sort, middle_val)"
   ]
  },
  {
   "cell_type": "code",
   "execution_count": 4,
   "metadata": {},
   "outputs": [
    {
     "ename": "AssertionError",
     "evalue": "The length of list has to be odd in length.",
     "output_type": "error",
     "traceback": [
      "\u001b[0;31m---------------------------------------------------------------------------\u001b[0m",
      "\u001b[0;31mAssertionError\u001b[0m                            Traceback (most recent call last)",
      "\u001b[0;32m<ipython-input-4-41f8d44cea54>\u001b[0m in \u001b[0;36m<module>\u001b[0;34m\u001b[0m\n\u001b[0;32m----> 1\u001b[0;31m \u001b[0msort\u001b[0m\u001b[0;34m,\u001b[0m \u001b[0mmiddle_val\u001b[0m \u001b[0;34m=\u001b[0m \u001b[0msort_median\u001b[0m\u001b[0;34m(\u001b[0m\u001b[0mb\u001b[0m\u001b[0;34m)\u001b[0m\u001b[0;34m\u001b[0m\u001b[0;34m\u001b[0m\u001b[0m\n\u001b[0m\u001b[1;32m      2\u001b[0m \u001b[0mprint\u001b[0m\u001b[0;34m(\u001b[0m\u001b[0msort\u001b[0m\u001b[0;34m,\u001b[0m \u001b[0mmiddle_val\u001b[0m\u001b[0;34m)\u001b[0m\u001b[0;34m\u001b[0m\u001b[0;34m\u001b[0m\u001b[0m\n",
      "\u001b[0;32m<ipython-input-3-79b0625eceec>\u001b[0m in \u001b[0;36msort_median\u001b[0;34m(lst)\u001b[0m\n\u001b[1;32m      1\u001b[0m \u001b[0;32mdef\u001b[0m \u001b[0msort_median\u001b[0m \u001b[0;34m(\u001b[0m\u001b[0mlst\u001b[0m\u001b[0;34m)\u001b[0m\u001b[0;34m:\u001b[0m\u001b[0;34m\u001b[0m\u001b[0;34m\u001b[0m\u001b[0m\n\u001b[1;32m      2\u001b[0m \u001b[0;34m\u001b[0m\u001b[0m\n\u001b[0;32m----> 3\u001b[0;31m     \u001b[0;32massert\u001b[0m \u001b[0mlen\u001b[0m\u001b[0;34m(\u001b[0m\u001b[0mlst\u001b[0m\u001b[0;34m)\u001b[0m\u001b[0;34m%\u001b[0m\u001b[0;36m2\u001b[0m \u001b[0;34m==\u001b[0m\u001b[0;36m1\u001b[0m\u001b[0;34m,\u001b[0m \u001b[0;34m\"The length of list has to be odd in length.\"\u001b[0m\u001b[0;34m\u001b[0m\u001b[0;34m\u001b[0m\u001b[0m\n\u001b[0m\u001b[1;32m      4\u001b[0m \u001b[0;34m\u001b[0m\u001b[0m\n\u001b[1;32m      5\u001b[0m     \u001b[0mlst\u001b[0m\u001b[0;34m.\u001b[0m\u001b[0msort\u001b[0m\u001b[0;34m(\u001b[0m\u001b[0;34m)\u001b[0m\u001b[0;34m\u001b[0m\u001b[0;34m\u001b[0m\u001b[0m\n",
      "\u001b[0;31mAssertionError\u001b[0m: The length of list has to be odd in length."
     ]
    }
   ],
   "source": [
    "sort, middle_val = sort_median(b)\n",
    "print(sort, middle_val)"
   ]
  },
  {
   "cell_type": "markdown",
   "metadata": {},
   "source": [
    "### Question 11\n",
    "* Make a generator that parses the list of transaction data\n",
    "* Put the contents in a dictionary where the key is the user id and the value is the list of items the user has purchased\n",
    "* note the transactions are pipe ( | ) delimtied, meaning you'll have to use some string manipulations to get the values from each transaction\n",
    "* make sure to skip the header somehow"
   ]
  },
  {
   "cell_type": "code",
   "execution_count": 42,
   "metadata": {},
   "outputs": [],
   "source": [
    "# transactions = ['A', 'item_a'], ['A', 'item_b']\n",
    "# dict = {A:[item_a, item_b]}"
   ]
  },
  {
   "cell_type": "code",
   "execution_count": 41,
   "metadata": {},
   "outputs": [],
   "source": [
    "transactions = [\n",
    "    [\"user_id|item_id\"],\n",
    "    [\"A|item_a\"],\n",
    "    [\"B|item_a\"],\n",
    "    [\"C|item_a\"],\n",
    "    [\"C|item_b\"],\n",
    "    [\"C|item_c\"],\n",
    "    [\"B|item_c\"],\n",
    "    [\"D|item_b\"],\n",
    "    [\"D|item_b\"]\n",
    "]"
   ]
  },
  {
   "cell_type": "code",
   "execution_count": 43,
   "metadata": {},
   "outputs": [
    {
     "name": "stdout",
     "output_type": "stream",
     "text": [
      "{'A': ['item_a'], 'B': ['item_a', 'item_c'], 'C': ['item_a', 'item_b', 'item_c'], 'D': ['item_b', 'item_b']}\n"
     ]
    }
   ],
   "source": [
    "records =  (j.rstrip().split(\"|\") for i in transactions for j in i)\n",
    "next(records)\n",
    "\n",
    "keys = [j.rstrip().split(\"|\")[0] for i in transactions for j in i][1:]\n",
    "\n",
    "answer = {key: [] for key in keys}\n",
    "\n",
    "[answer[key].append(value) for key, value in records]\n",
    "\n",
    "print(answer)"
   ]
  },
  {
   "cell_type": "markdown",
   "metadata": {},
   "source": [
    "### Question 12\n",
    "* Make a function that takes 2 lists of equal length and returns a True when the values in a given index are the same in both lists and a false if they are not.\n",
    "* Use error handling of some kind if the lists are not of equal length."
   ]
  },
  {
   "cell_type": "code",
   "execution_count": 13,
   "metadata": {},
   "outputs": [],
   "source": [
    "# should return [True, True, True, False, False]\n",
    "a = [1,2,3,4,5]\n",
    "b = [1,2,3,5,6]"
   ]
  },
  {
   "cell_type": "code",
   "execution_count": 14,
   "metadata": {},
   "outputs": [
    {
     "data": {
      "text/plain": [
       "[True, True, True, False, False]"
      ]
     },
     "execution_count": 14,
     "metadata": {},
     "output_type": "execute_result"
    }
   ],
   "source": [
    "def same_index(arr1, arr2):\n",
    "    assert len(arr1) == len(arr2), \"The two lists are not of equal length.\"\n",
    "    \n",
    "    answer = [x1 == x2 for x1,x2 in zip(arr1, arr2)]\n",
    "    \n",
    "    return answer\n",
    "        \n",
    "same_index(a,b)"
   ]
  },
  {
   "cell_type": "markdown",
   "metadata": {},
   "source": [
    "### Question 13\n",
    "Briefly explain the use of the following words in python:\n",
    "* assert\n",
    "<p style=\"color:blue\"> Assert tests a condition. If the condition is met, assert will not do anything to the program and the program will continue running. However, when a condition is not met, it will raise an error message.\n",
    "    \n",
    "    \n",
    "* raise\n",
    "<p style=\"color:blue\"> The raise statement can be used to forcefully raise an exception error. \n",
    "    \n",
    "\n",
    "* yield\n",
    "<p style=\"color:blue\"> We use yield in a funciton to make a generator. We use yield as return, but it won't detroy the local state of variables so that we can resume where was left of.\n",
    "\n",
    "\n",
    "* def\n",
    "<p style=\"color:blue\"> We use def to define a function. \n",
    "\n",
    "\n",
    "* lambda\n",
    "<p style=\"color:blue\"> Lambda is a smaller function but it is anonymous. \n",
    "\n",
    "\n",
    "* return\n",
    "<p style=\"color:blue\"> We use this keyword to end the execution of function and return values we want. \n",
    "\n",
    "\n",
    "* map\n",
    "<p style=\"color:blue\"> By using map function, we can apply a function to a given iterable. What map function returns is a map object. \n",
    "\n",
    "\n",
    "* filter\n",
    "<p style=\"color:blue\"> Filter() filters a sequence of items based on a user-defined criterion. Filter() always comes with function, which is used to test the items in a sequence, and sequence, which is being filtered. \n",
    "\n",
    "\n",
    "* try\n",
    "<p style=\"color:blue\">  We use this keyword to try out a part of the code. It is usually used with except. If no exception error happens happens, only the try part will be run and the except part will be skipped. If except error happend, the try part will be skipped and only the exception part will be run. \n",
    "\n",
    "\n",
    "* except\n",
    "<p style=\"color:blue\"> It is used with try. Except handles the error that is tested by the try block.\n",
    "\n",
    "\n",
    "* continue\n",
    "<p style=\"color:blue\">  Continues is used to skip the rest of the code for current iteration. Loop will just continue onto the next iteration. \n",
    "\n",
    "\n",
    "* pass\n",
    "<p style=\"color:blue\">  Nothing happens when pass executes. It is used more like a placeholder for code. \n",
    "\n",
    "\n",
    "* break\n",
    "<p style=\"color:blue\"> Break is used to terminate the loop containing this keyword. \n",
    "\n",
    "\n",
    "* while\n",
    "<p style=\"color:blue\"> While is a loop where we can execute our code as long as the condition is met. \n",
    "\n",
    "\n",
    "* do (in the context of a while loop)\n",
    "<p style=\"color:blue\">  Do-while loop does not exist in python. \n",
    "\n",
    "\n",
    "* for\n",
    "<p style=\"color:blue\"> We use for loop when we havec a chunk of codes that we want to repeatedly run for a limited number of times. "
   ]
  },
  {
   "cell_type": "markdown",
   "metadata": {},
   "source": [
    "### Question 14\n",
    "Briefly describe the below:\n",
    "* list - <p style=\"color:blue\"> List is a sequence of items enclosed in [] and separated by comma. A list can contain different types of items.\n",
    "    \n",
    "    \n",
    "* tuple - <p style=\"color:blue\"> Like list, tuple is a collection of items enclosed in (). However, unlike list, tuple is immutable. A tuple can contain different data types. \n",
    "    \n",
    "    \n",
    "* dictionary - <p style=\"color:blue\"> Dictionary is a collection of key-value pairs enclosed in {} and seperated by comma. \n",
    "    \n",
    "    \n",
    "* set - <p style=\"color:blue\"> Set is a collection of different data types enclosed in {}. It can contain one or more objects, but not duplicated ones. The items in set are not ordered because the order in set may not be the same as the order of assignment."
   ]
  },
  {
   "cell_type": "markdown",
   "metadata": {},
   "source": [
    "### Question 15\n",
    "* What two datatypes can be declared with { }?\n",
    "<p style=\"color:blue\"> dictionary, set\n",
    "\n",
    "\n",
    "* What two datatypes can be declared with ( )?\n",
    "<p style=\"color:blue\"> tuple, zip() Note: Technically, zip() is a function returning an iterator object that is declared with (). \n",
    "\n",
    "\n",
    "* Provide examples of each of the 4 above.\n",
    "<p style=\"color:blue\">zip: zip(x,y)\n",
    "<p style=\"color:blue\">Tuple: (\"red\", \"green\")\n",
    "<p style=\"color:blue\">Dictionary: {\"color\": \"red\", \"shape\": \"triangle\"}\n",
    "<p style=\"color:blue\">Set: {\"apple\", \"banana\", \"cherry\"}"
   ]
  },
  {
   "cell_type": "markdown",
   "metadata": {},
   "source": [
    "### Question 16\n",
    "Describe what a generator is and how it differs from a list or tuple."
   ]
  },
  {
   "cell_type": "markdown",
   "metadata": {},
   "source": [
    "<p style=\"color:blue\"> Generator is a function that returns an iterator object. It maintains its local state so it keeps tracks of where we are in an iterator. Tuple is enclosed in () which is just a literal and all the values in () are hardcoded. However, () in generator is for groupings so that generator returns one object at a time when called. The difference between list and generator is mainly in list comprehension and generator comprehension. Python reserves the memory for the entire list but only one item at a time for generator when in demand.  "
   ]
  },
  {
   "cell_type": "markdown",
   "metadata": {},
   "source": [
    "## Question 17 \n",
    "Show three ways of attaching a list to itself (one of then should use the function append) . \n"
   ]
  },
  {
   "cell_type": "code",
   "execution_count": null,
   "metadata": {},
   "outputs": [],
   "source": [
    "# Method 1: Use +\n",
    "a = [1,2,3]\n",
    "b = [1,2,3]\n",
    "\n",
    "answer = a+b\n",
    "print(answer)"
   ]
  },
  {
   "cell_type": "code",
   "execution_count": null,
   "metadata": {},
   "outputs": [],
   "source": [
    "# Method 2: Use extend()\n",
    "a = [1,2,3]\n",
    "b = [1,2,3]\n",
    "a.extend(b)\n",
    "print(a)"
   ]
  },
  {
   "cell_type": "code",
   "execution_count": null,
   "metadata": {},
   "outputs": [],
   "source": [
    "# Method 3: Use chain\n",
    "a = [1,2,3]\n",
    "b = [1,2,3]\n",
    "from itertools import chain\n",
    "answer = list(chain(a,b))\n",
    "print(answer)"
   ]
  }
 ],
 "metadata": {
  "kernelspec": {
   "display_name": "Python 3",
   "language": "python",
   "name": "python3"
  },
  "language_info": {
   "codemirror_mode": {
    "name": "ipython",
    "version": 3
   },
   "file_extension": ".py",
   "mimetype": "text/x-python",
   "name": "python",
   "nbconvert_exporter": "python",
   "pygments_lexer": "ipython3",
   "version": "3.6.8"
  }
 },
 "nbformat": 4,
 "nbformat_minor": 2
}
